{
 "cells": [
  {
   "cell_type": "code",
   "execution_count": 1,
   "id": "283b359e",
   "metadata": {},
   "outputs": [],
   "source": [
    "#import necessary libraries\n",
    "import pandas as pd\n",
    "from sklearn.preprocessing import StandardScaler\n",
    "from sklearn.cluster import KMeans\n",
    "import matplotlib.pyplot as plt"
   ]
  },
  {
   "cell_type": "code",
   "execution_count": 2,
   "id": "c09423d2",
   "metadata": {},
   "outputs": [
    {
     "data": {
      "text/html": [
       "<div>\n",
       "<style scoped>\n",
       "    .dataframe tbody tr th:only-of-type {\n",
       "        vertical-align: middle;\n",
       "    }\n",
       "\n",
       "    .dataframe tbody tr th {\n",
       "        vertical-align: top;\n",
       "    }\n",
       "\n",
       "    .dataframe thead th {\n",
       "        text-align: right;\n",
       "    }\n",
       "</style>\n",
       "<table border=\"1\" class=\"dataframe\">\n",
       "  <thead>\n",
       "    <tr style=\"text-align: right;\">\n",
       "      <th></th>\n",
       "      <th>Age</th>\n",
       "      <th>City</th>\n",
       "      <th>Total Sales</th>\n",
       "    </tr>\n",
       "  </thead>\n",
       "  <tbody>\n",
       "    <tr>\n",
       "      <th>0</th>\n",
       "      <td>0</td>\n",
       "      <td>NaN</td>\n",
       "      <td>10053.33</td>\n",
       "    </tr>\n",
       "    <tr>\n",
       "      <th>1</th>\n",
       "      <td>41</td>\n",
       "      <td>SASKATOON</td>\n",
       "      <td>8654.14</td>\n",
       "    </tr>\n",
       "    <tr>\n",
       "      <th>2</th>\n",
       "      <td>0</td>\n",
       "      <td>NaN</td>\n",
       "      <td>3284.41</td>\n",
       "    </tr>\n",
       "    <tr>\n",
       "      <th>3</th>\n",
       "      <td>0</td>\n",
       "      <td>NaN</td>\n",
       "      <td>3699.95</td>\n",
       "    </tr>\n",
       "    <tr>\n",
       "      <th>4</th>\n",
       "      <td>0</td>\n",
       "      <td>SASKATOON</td>\n",
       "      <td>44536105.29</td>\n",
       "    </tr>\n",
       "  </tbody>\n",
       "</table>\n",
       "</div>"
      ],
      "text/plain": [
       "   Age                  City  Total Sales\n",
       "0    0                   NaN     10053.33\n",
       "1   41  SASKATOON                 8654.14\n",
       "2    0                   NaN      3284.41\n",
       "3    0                   NaN      3699.95\n",
       "4    0  SASKATOON             44536105.29"
      ]
     },
     "execution_count": 2,
     "metadata": {},
     "output_type": "execute_result"
    }
   ],
   "source": [
    "df = pd.read_csv('retail.csv')\n",
    "df.head()"
   ]
  },
  {
   "cell_type": "code",
   "execution_count": 3,
   "id": "40ffc8f6",
   "metadata": {},
   "outputs": [
    {
     "data": {
      "text/plain": [
       "185080"
      ]
     },
     "execution_count": 3,
     "metadata": {},
     "output_type": "execute_result"
    }
   ],
   "source": [
    "len(df)"
   ]
  },
  {
   "cell_type": "code",
   "execution_count": 4,
   "id": "e538e82a",
   "metadata": {},
   "outputs": [
    {
     "name": "stdout",
     "output_type": "stream",
     "text": [
      "<class 'pandas.core.frame.DataFrame'>\n",
      "RangeIndex: 185080 entries, 0 to 185079\n",
      "Data columns (total 3 columns):\n",
      " #   Column       Non-Null Count   Dtype  \n",
      "---  ------       --------------   -----  \n",
      " 0   Age          185080 non-null  int64  \n",
      " 1   City         126535 non-null  object \n",
      " 2   Total Sales  185080 non-null  float64\n",
      "dtypes: float64(1), int64(1), object(1)\n",
      "memory usage: 4.2+ MB\n"
     ]
    }
   ],
   "source": [
    "df.info()"
   ]
  },
  {
   "cell_type": "code",
   "execution_count": 5,
   "id": "bfa2a61f",
   "metadata": {},
   "outputs": [],
   "source": [
    "#City names are missing so, in this step the rows where cities are missing will be removed\n",
    "df1 = df.dropna(subset=['City'])"
   ]
  },
  {
   "cell_type": "code",
   "execution_count": 6,
   "id": "e24f3905",
   "metadata": {},
   "outputs": [
    {
     "data": {
      "text/plain": [
       "126535"
      ]
     },
     "execution_count": 6,
     "metadata": {},
     "output_type": "execute_result"
    }
   ],
   "source": [
    "len(df1)"
   ]
  },
  {
   "cell_type": "code",
   "execution_count": 7,
   "id": "27df0f0c",
   "metadata": {},
   "outputs": [
    {
     "name": "stderr",
     "output_type": "stream",
     "text": [
      "/var/folders/jz/l291cf8s441d5c4swjg53z5c0000gn/T/ipykernel_62351/3780102994.py:2: SettingWithCopyWarning: \n",
      "A value is trying to be set on a copy of a slice from a DataFrame\n",
      "\n",
      "See the caveats in the documentation: https://pandas.pydata.org/pandas-docs/stable/user_guide/indexing.html#returning-a-view-versus-a-copy\n",
      "  df1['Age'].replace(0, df['Age'].median(), inplace = True)\n"
     ]
    }
   ],
   "source": [
    "#There are some invalid ages (0), so replace them with median age\n",
    "df1['Age'].replace(0, df['Age'].median(), inplace = True)"
   ]
  },
  {
   "cell_type": "code",
   "execution_count": 8,
   "id": "6c7fe3e3",
   "metadata": {},
   "outputs": [
    {
     "data": {
      "text/plain": [
       "126535"
      ]
     },
     "execution_count": 8,
     "metadata": {},
     "output_type": "execute_result"
    }
   ],
   "source": [
    "len(df1)"
   ]
  },
  {
   "cell_type": "code",
   "execution_count": 9,
   "id": "5b56f0d6",
   "metadata": {},
   "outputs": [
    {
     "data": {
      "text/html": [
       "<div>\n",
       "<style scoped>\n",
       "    .dataframe tbody tr th:only-of-type {\n",
       "        vertical-align: middle;\n",
       "    }\n",
       "\n",
       "    .dataframe tbody tr th {\n",
       "        vertical-align: top;\n",
       "    }\n",
       "\n",
       "    .dataframe thead th {\n",
       "        text-align: right;\n",
       "    }\n",
       "</style>\n",
       "<table border=\"1\" class=\"dataframe\">\n",
       "  <thead>\n",
       "    <tr style=\"text-align: right;\">\n",
       "      <th></th>\n",
       "      <th>Age</th>\n",
       "      <th>City</th>\n",
       "      <th>Total Sales</th>\n",
       "    </tr>\n",
       "  </thead>\n",
       "  <tbody>\n",
       "    <tr>\n",
       "      <th>1</th>\n",
       "      <td>41</td>\n",
       "      <td>SASKATOON</td>\n",
       "      <td>8654.14</td>\n",
       "    </tr>\n",
       "    <tr>\n",
       "      <th>4</th>\n",
       "      <td>47</td>\n",
       "      <td>SASKATOON</td>\n",
       "      <td>44536105.29</td>\n",
       "    </tr>\n",
       "    <tr>\n",
       "      <th>8</th>\n",
       "      <td>86</td>\n",
       "      <td>SASKATOON</td>\n",
       "      <td>10974.11</td>\n",
       "    </tr>\n",
       "    <tr>\n",
       "      <th>10</th>\n",
       "      <td>89</td>\n",
       "      <td>SASKATOON</td>\n",
       "      <td>2628.89</td>\n",
       "    </tr>\n",
       "    <tr>\n",
       "      <th>14</th>\n",
       "      <td>97</td>\n",
       "      <td>SASKATOON</td>\n",
       "      <td>368.29</td>\n",
       "    </tr>\n",
       "  </tbody>\n",
       "</table>\n",
       "</div>"
      ],
      "text/plain": [
       "    Age                  City  Total Sales\n",
       "1    41  SASKATOON                 8654.14\n",
       "4    47  SASKATOON             44536105.29\n",
       "8    86  SASKATOON                10974.11\n",
       "10   89  SASKATOON                 2628.89\n",
       "14   97  SASKATOON                  368.29"
      ]
     },
     "execution_count": 9,
     "metadata": {},
     "output_type": "execute_result"
    }
   ],
   "source": [
    "df1.head()"
   ]
  },
  {
   "cell_type": "code",
   "execution_count": 10,
   "id": "aa7ba691",
   "metadata": {},
   "outputs": [
    {
     "name": "stderr",
     "output_type": "stream",
     "text": [
      "/var/folders/jz/l291cf8s441d5c4swjg53z5c0000gn/T/ipykernel_62351/3477653071.py:3: SettingWithCopyWarning: \n",
      "A value is trying to be set on a copy of a slice from a DataFrame.\n",
      "Try using .loc[row_indexer,col_indexer] = value instead\n",
      "\n",
      "See the caveats in the documentation: https://pandas.pydata.org/pandas-docs/stable/user_guide/indexing.html#returning-a-view-versus-a-copy\n",
      "  df1[['Age', 'Total Sales']] = scaler.fit_transform(df1[['Age', 'Total Sales']])\n"
     ]
    }
   ],
   "source": [
    "# Standardizing total sales and age\n",
    "scaler = StandardScaler()\n",
    "df1[['Age', 'Total Sales']] = scaler.fit_transform(df1[['Age', 'Total Sales']])"
   ]
  },
  {
   "cell_type": "code",
   "execution_count": 11,
   "id": "0c9c08b7",
   "metadata": {},
   "outputs": [],
   "source": [
    "# One-hot Encoding 'City'. Label encoding is not suitable in this case as cities are not ordinal\n",
    "df2 = pd.get_dummies(df1, columns = ['City'], drop_first = True)"
   ]
  },
  {
   "cell_type": "code",
   "execution_count": 12,
   "id": "8f31ac43",
   "metadata": {},
   "outputs": [
    {
     "data": {
      "text/html": [
       "<div>\n",
       "<style scoped>\n",
       "    .dataframe tbody tr th:only-of-type {\n",
       "        vertical-align: middle;\n",
       "    }\n",
       "\n",
       "    .dataframe tbody tr th {\n",
       "        vertical-align: top;\n",
       "    }\n",
       "\n",
       "    .dataframe thead th {\n",
       "        text-align: right;\n",
       "    }\n",
       "</style>\n",
       "<table border=\"1\" class=\"dataframe\">\n",
       "  <thead>\n",
       "    <tr style=\"text-align: right;\">\n",
       "      <th></th>\n",
       "      <th>Age</th>\n",
       "      <th>Total Sales</th>\n",
       "      <th>City_ DUVAL</th>\n",
       "      <th>City_ MARTENSVILLE</th>\n",
       "      <th>City_ NORTH BATTLEFORD</th>\n",
       "      <th>City_ OUTLOOK</th>\n",
       "      <th>City_ SASKATOON</th>\n",
       "      <th>City_108 MILE RANCH</th>\n",
       "      <th>City_1408 EDWARD AVENUE</th>\n",
       "      <th>City_150 MILE HOUSE</th>\n",
       "      <th>...</th>\n",
       "      <th>City_YELLOWKNIFE</th>\n",
       "      <th>City_YMIR</th>\n",
       "      <th>City_YORKTON</th>\n",
       "      <th>City_YOUNG</th>\n",
       "      <th>City_YPSILANTI</th>\n",
       "      <th>City_Yellow Grass</th>\n",
       "      <th>City_ZEALANDIA</th>\n",
       "      <th>City_ZEKNER</th>\n",
       "      <th>City_ZELMA</th>\n",
       "      <th>City_ZENON PARK</th>\n",
       "    </tr>\n",
       "  </thead>\n",
       "  <tbody>\n",
       "    <tr>\n",
       "      <th>1</th>\n",
       "      <td>-0.792819</td>\n",
       "      <td>0.055137</td>\n",
       "      <td>0</td>\n",
       "      <td>0</td>\n",
       "      <td>0</td>\n",
       "      <td>0</td>\n",
       "      <td>0</td>\n",
       "      <td>0</td>\n",
       "      <td>0</td>\n",
       "      <td>0</td>\n",
       "      <td>...</td>\n",
       "      <td>0</td>\n",
       "      <td>0</td>\n",
       "      <td>0</td>\n",
       "      <td>0</td>\n",
       "      <td>0</td>\n",
       "      <td>0</td>\n",
       "      <td>0</td>\n",
       "      <td>0</td>\n",
       "      <td>0</td>\n",
       "      <td>0</td>\n",
       "    </tr>\n",
       "    <tr>\n",
       "      <th>4</th>\n",
       "      <td>-0.472920</td>\n",
       "      <td>355.515484</td>\n",
       "      <td>0</td>\n",
       "      <td>0</td>\n",
       "      <td>0</td>\n",
       "      <td>0</td>\n",
       "      <td>0</td>\n",
       "      <td>0</td>\n",
       "      <td>0</td>\n",
       "      <td>0</td>\n",
       "      <td>...</td>\n",
       "      <td>0</td>\n",
       "      <td>0</td>\n",
       "      <td>0</td>\n",
       "      <td>0</td>\n",
       "      <td>0</td>\n",
       "      <td>0</td>\n",
       "      <td>0</td>\n",
       "      <td>0</td>\n",
       "      <td>0</td>\n",
       "      <td>0</td>\n",
       "    </tr>\n",
       "    <tr>\n",
       "      <th>8</th>\n",
       "      <td>1.606424</td>\n",
       "      <td>0.073658</td>\n",
       "      <td>0</td>\n",
       "      <td>0</td>\n",
       "      <td>0</td>\n",
       "      <td>0</td>\n",
       "      <td>0</td>\n",
       "      <td>0</td>\n",
       "      <td>0</td>\n",
       "      <td>0</td>\n",
       "      <td>...</td>\n",
       "      <td>0</td>\n",
       "      <td>0</td>\n",
       "      <td>0</td>\n",
       "      <td>0</td>\n",
       "      <td>0</td>\n",
       "      <td>0</td>\n",
       "      <td>0</td>\n",
       "      <td>0</td>\n",
       "      <td>0</td>\n",
       "      <td>0</td>\n",
       "    </tr>\n",
       "    <tr>\n",
       "      <th>10</th>\n",
       "      <td>1.766374</td>\n",
       "      <td>0.007038</td>\n",
       "      <td>0</td>\n",
       "      <td>0</td>\n",
       "      <td>0</td>\n",
       "      <td>0</td>\n",
       "      <td>0</td>\n",
       "      <td>0</td>\n",
       "      <td>0</td>\n",
       "      <td>0</td>\n",
       "      <td>...</td>\n",
       "      <td>0</td>\n",
       "      <td>0</td>\n",
       "      <td>0</td>\n",
       "      <td>0</td>\n",
       "      <td>0</td>\n",
       "      <td>0</td>\n",
       "      <td>0</td>\n",
       "      <td>0</td>\n",
       "      <td>0</td>\n",
       "      <td>0</td>\n",
       "    </tr>\n",
       "    <tr>\n",
       "      <th>14</th>\n",
       "      <td>2.192906</td>\n",
       "      <td>-0.011008</td>\n",
       "      <td>0</td>\n",
       "      <td>0</td>\n",
       "      <td>0</td>\n",
       "      <td>0</td>\n",
       "      <td>0</td>\n",
       "      <td>0</td>\n",
       "      <td>0</td>\n",
       "      <td>0</td>\n",
       "      <td>...</td>\n",
       "      <td>0</td>\n",
       "      <td>0</td>\n",
       "      <td>0</td>\n",
       "      <td>0</td>\n",
       "      <td>0</td>\n",
       "      <td>0</td>\n",
       "      <td>0</td>\n",
       "      <td>0</td>\n",
       "      <td>0</td>\n",
       "      <td>0</td>\n",
       "    </tr>\n",
       "  </tbody>\n",
       "</table>\n",
       "<p>5 rows × 2422 columns</p>\n",
       "</div>"
      ],
      "text/plain": [
       "         Age  Total Sales  City_ DUVAL                \\\n",
       "1  -0.792819     0.055137                          0   \n",
       "4  -0.472920   355.515484                          0   \n",
       "8   1.606424     0.073658                          0   \n",
       "10  1.766374     0.007038                          0   \n",
       "14  2.192906    -0.011008                          0   \n",
       "\n",
       "    City_ MARTENSVILLE         City_ NORTH BATTLEFORD     \\\n",
       "1                           0                          0   \n",
       "4                           0                          0   \n",
       "8                           0                          0   \n",
       "10                          0                          0   \n",
       "14                          0                          0   \n",
       "\n",
       "    City_ OUTLOOK              City_ SASKATOON            \\\n",
       "1                           0                          0   \n",
       "4                           0                          0   \n",
       "8                           0                          0   \n",
       "10                          0                          0   \n",
       "14                          0                          0   \n",
       "\n",
       "    City_108 MILE RANCH        City_1408 EDWARD AVENUE    \\\n",
       "1                           0                          0   \n",
       "4                           0                          0   \n",
       "8                           0                          0   \n",
       "10                          0                          0   \n",
       "14                          0                          0   \n",
       "\n",
       "    City_150 MILE HOUSE        ...  City_YELLOWKNIFE           \\\n",
       "1                           0  ...                          0   \n",
       "4                           0  ...                          0   \n",
       "8                           0  ...                          0   \n",
       "10                          0  ...                          0   \n",
       "14                          0  ...                          0   \n",
       "\n",
       "    City_YMIR                  City_YORKTON               \\\n",
       "1                           0                          0   \n",
       "4                           0                          0   \n",
       "8                           0                          0   \n",
       "10                          0                          0   \n",
       "14                          0                          0   \n",
       "\n",
       "    City_YOUNG                 City_YPSILANTI             \\\n",
       "1                           0                          0   \n",
       "4                           0                          0   \n",
       "8                           0                          0   \n",
       "10                          0                          0   \n",
       "14                          0                          0   \n",
       "\n",
       "    City_Yellow Grass          City_ZEALANDIA             \\\n",
       "1                           0                          0   \n",
       "4                           0                          0   \n",
       "8                           0                          0   \n",
       "10                          0                          0   \n",
       "14                          0                          0   \n",
       "\n",
       "    City_ZEKNER                City_ZELMA                 \\\n",
       "1                           0                          0   \n",
       "4                           0                          0   \n",
       "8                           0                          0   \n",
       "10                          0                          0   \n",
       "14                          0                          0   \n",
       "\n",
       "    City_ZENON PARK            \n",
       "1                           0  \n",
       "4                           0  \n",
       "8                           0  \n",
       "10                          0  \n",
       "14                          0  \n",
       "\n",
       "[5 rows x 2422 columns]"
      ]
     },
     "execution_count": 12,
     "metadata": {},
     "output_type": "execute_result"
    }
   ],
   "source": [
    "df2.head()"
   ]
  },
  {
   "cell_type": "code",
   "execution_count": 13,
   "id": "74edfe6b",
   "metadata": {},
   "outputs": [],
   "source": [
    "#Finding optimal number of clusters using elbow method. SSD = SUM of squared distance. (SOURCE = Medium)\n",
    "#used n_init = \"auto\" to hide the warnings\n",
    "SSD = []\n",
    "K = range(1, 12)\n",
    "for k in K:\n",
    "    kmeans = KMeans(n_clusters = k, n_init = \"auto\", random_state = 42)\n",
    "    kmeans.fit(df2)\n",
    "    SSD.append(kmeans.inertia_)"
   ]
  },
  {
   "cell_type": "code",
   "execution_count": 14,
   "id": "75c1f1e5",
   "metadata": {},
   "outputs": [
    {
     "data": {
      "image/png": "[encoded data removed]",
      "text/plain": [
       "<Figure size 640x480 with 1 Axes>"
      ]
     },
     "metadata": {},
     "output_type": "display_data"
    }
   ],
   "source": [
    "plt.plot(K, SSD, 'bx-')\n",
    "plt.xlabel('k')\n",
    "plt.ylabel('Sum of Squared Distances')\n",
    "plt.title('Elbow Method For Optimal k')\n",
    "plt.show()"
   ]
  },
  {
   "cell_type": "code",
   "execution_count": 16,
   "id": "b11293de",
   "metadata": {},
   "outputs": [],
   "source": [
    "#From the above elbow graph we can see that the optimal number of clusters is 4.\n",
    "kmeans = KMeans(n_clusters = 4, n_init = \"auto\", random_state = 42)\n",
    "df2['Cluster'] = kmeans.fit_predict(df2)"
   ]
  }
 ],
 "metadata": {
  "kernelspec": {
   "display_name": "Python 3 (ipykernel)",
   "language": "python",
   "name": "python3"
  },
  "language_info": {
   "codemirror_mode": {
    "name": "ipython",
    "version": 3
   },
   "file_extension": ".py",
   "mimetype": "text/x-python",
   "name": "python",
   "nbconvert_exporter": "python",
   "pygments_lexer": "ipython3",
   "version": "3.10.9"
  }
 },
 "nbformat": 4,
 "nbformat_minor": 5
}
