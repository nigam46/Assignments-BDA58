{
 "cells": [
  {
   "cell_type": "markdown",
   "id": "7e70f404",
   "metadata": {},
   "source": [
    "# Model Evaluation: Evaluation Metrics and Cross-Validation Methods"
   ]
  },
  {
   "cell_type": "markdown",
   "id": "289e57cb",
   "metadata": {},
   "source": [
    "- After building a machine learning model, it's crucial to assess how well the model performs on unseen data.\n",
    "\n",
    "- Model evaluation helps ensure that the model generalizes well beyond the training set.\n",
    "\n",
    "- This step involves using various evaluation metrics and cross-validation methods to test the model’s performance."
   ]
  },
  {
   "cell_type": "markdown",
   "id": "effdc5d7",
   "metadata": {},
   "source": [
    "# 1. Evaluation Metrics"
   ]
  },
  {
   "cell_type": "markdown",
   "id": "78abe42b",
   "metadata": {},
   "source": [
    "Different types of machine learning tasks (classification, regression, etc.) require different evaluation metrics.\n",
    "\n",
    "- Below are some common metrics used for both classification and regression models:"
   ]
  },
  {
   "cell_type": "markdown",
   "id": "c8812edc",
   "metadata": {},
   "source": [
    "## Classification metrics"
   ]
  },
  {
   "cell_type": "markdown",
   "id": "f8588fbb",
   "metadata": {},
   "source": [
    "1. Accuracy\n",
    "- Definition: The ratio of correctly predicted instances to the total instances.\n",
    "\n",
    "- Use Case: Best for balanced datasets, where the classes are equally represented.\n",
    "\n",
    "- Formula: Accuracy = Correct Predictions/Total Predictions\n",
    "\n",
    "     Accuracy = 10[Correct Predictions]/20[Total Correct Predictions] =? 50%\n",
    "     \n",
    "- Example: If your model correctly predicts 90 out of 100 images as either cats or dogs, the accuracy is 90%."
   ]
  },
  {
   "cell_type": "markdown",
   "id": "1731759d",
   "metadata": {},
   "source": [
    "2. Precision, Recall, and F1-Score\n",
    "Precision: Measures how many of the predicted positive instances are actually positive.\n",
    "\n",
    "    Precision = True Positives/True Positives+False Positives\n",
    "    \n",
    "Emails - Spam Detection Let’s take the example of spam detection in emails:\n",
    "\n",
    "    - True Positive (TP): The model correctly identifies an email as spam (the email is actually spam and the model predicted it as spam).\n",
    "    \n",
    "Example: A marketing email gets correctly flagged as spam.\n",
    "    \n",
    "    - False Positive (FP): The model incorrectly identifies a non-spam email as spam (the email is not spam, but the model flagged it as spam).\n",
    "    \n",
    "Example: An important work email gets flagged as spam incorrectly.\n",
    "\n",
    "    - True Positive (TP): Actual positive, predicted positive.\n",
    "    - False Positive (FP): Actual negative, predicted positive.\n",
    "    - False Negative (FN): Actual positive, predicted negative.\n",
    "    - True Negative (TN): Actual negative, predicted negative."
   ]
  },
  {
   "cell_type": "code",
   "execution_count": 1,
   "id": "147d61a5",
   "metadata": {},
   "outputs": [
    {
     "name": "stdout",
     "output_type": "stream",
     "text": [
      "True Labels (y_true): [0 1 0 0 0 1 0 0 0 1]\n",
      "Predictions (y_pred): [0 0 0 0 1 0 1 1 1 0]\n",
      "True Positives (TP): 0\n",
      "False Positives (FP): 4\n"
     ]
    }
   ],
   "source": [
    "import numpy as np\n",
    "from sklearn.metrics import confusion_matrix\n",
    "\n",
    "# Create synthetic true labels (y_true) and predictions (y_pred)\n",
    "np.random.seed(42)  # For reproducibility\n",
    "y_true = np.random.randint(0, 2, size=10)  # True labels (binary: 0 or 1)\n",
    "y_pred = np.random.randint(0, 2, size=10)  # Model predictions (binary: 0 or 1)\n",
    "\n",
    "print(\"True Labels (y_true):\", y_true)\n",
    "print(\"Predictions (y_pred):\", y_pred)\n",
    "\n",
    "# Calculate the confusion matrix\n",
    "tn, fp, fn, tp = confusion_matrix(y_true, y_pred).ravel()\n",
    "\n",
    "# Output the results\n",
    "print(f\"True Positives (TP): {tp}\")\n",
    "print(f\"False Positives (FP): {fp}\")"
   ]
  },
  {
   "cell_type": "code",
   "execution_count": null,
   "id": "f9c0d7c6",
   "metadata": {},
   "outputs": [],
   "source": []
  }
 ],
 "metadata": {
  "kernelspec": {
   "display_name": "Python 3 (ipykernel)",
   "language": "python",
   "name": "python3"
  },
  "language_info": {
   "codemirror_mode": {
    "name": "ipython",
    "version": 3
   },
   "file_extension": ".py",
   "mimetype": "text/x-python",
   "name": "python",
   "nbconvert_exporter": "python",
   "pygments_lexer": "ipython3",
   "version": "3.10.9"
  }
 },
 "nbformat": 4,
 "nbformat_minor": 5
}
