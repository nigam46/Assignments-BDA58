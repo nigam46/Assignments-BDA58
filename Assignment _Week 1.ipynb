{
 "cells": [
  {
   "cell_type": "markdown",
   "id": "aceca7eb",
   "metadata": {},
   "source": [
    "# 1. Scenario: You have a list of integers, and you need to find the maximum value in the list.\n",
    "## a. How would you find the maximum value from the following list?"
   ]
  },
  {
   "cell_type": "markdown",
   "id": "b57194c6",
   "metadata": {},
   "source": [
    "We can sort the number in ascending order and the last value would be the maximum."
   ]
  },
  {
   "cell_type": "code",
   "execution_count": 15,
   "id": "7c11f1cd",
   "metadata": {},
   "outputs": [
    {
     "data": {
      "text/plain": [
       "100"
      ]
     },
     "execution_count": 15,
     "metadata": {},
     "output_type": "execute_result"
    }
   ],
   "source": [
    "#Given list of numbers\n",
    "num = [90,45,81,100,20,56,95]\n",
    "\n",
    "#Arrange in ascending order\n",
    "num.sort()\n",
    "num\n",
    "\n",
    "\n",
    "#Find the maximum value\n",
    "max_num = num[-1] #because the last element will be the maximum\n",
    "max_num #output"
   ]
  },
  {
   "cell_type": "markdown",
   "id": "0c7c567b",
   "metadata": {},
   "source": [
    "# 2. Scenario: You need to concatenate a list of strings into a single string, with each string separated by a comma.\n",
    "## a. Question: How would you combine the following list of strings into a single string?"
   ]
  },
  {
   "cell_type": "markdown",
   "id": "566ed299",
   "metadata": {},
   "source": [
    "We can use the \"+\" sign to concatenate the list of strings."
   ]
  },
  {
   "cell_type": "code",
   "execution_count": 16,
   "id": "60e34956",
   "metadata": {},
   "outputs": [
    {
     "data": {
      "text/plain": [
       "['lion', 'tiger', 'elephant', 'cat', 'dog', 'bat']"
      ]
     },
     "execution_count": 16,
     "metadata": {},
     "output_type": "execute_result"
    }
   ],
   "source": [
    "# Given lists of strings\n",
    "a = [\"lion\", \"tiger\", \"elephant\"]\n",
    "b = [\"cat\", \"dog\", \"bat\"]\n",
    "\n",
    "# Concatenate lists a and b \n",
    "a + b #output"
   ]
  },
  {
   "cell_type": "markdown",
   "id": "f181dda1",
   "metadata": {},
   "source": [
    "# 3. Scenario: You have a dictionary where the keys are names and the values are ages. You need to retrieve the age of a specific person.\n",
    "## a. Question: How would you get the age of \"Dev\" from the following dictionary?"
   ]
  },
  {
   "cell_type": "markdown",
   "id": "ee112a2d",
   "metadata": {},
   "source": [
    "We can use dictionary lookup function."
   ]
  },
  {
   "cell_type": "code",
   "execution_count": 21,
   "id": "5fd63d90",
   "metadata": {},
   "outputs": [
    {
     "name": "stdout",
     "output_type": "stream",
     "text": [
      "30\n"
     ]
    }
   ],
   "source": [
    "#Dictonary\n",
    "name_age = {\"Ram\": 24, \"Dev\": 30, \"Sam\": 35, \"Prakash\": 40}\n",
    "\n",
    "#Get and print age of Dev\n",
    "age_of_Dev = name_age[\"Dev\"]\n",
    "print(age_of_Dev)"
   ]
  },
  {
   "cell_type": "markdown",
   "id": "f293e7c3",
   "metadata": {},
   "source": [
    "# 4. Scenario: You need to remove duplicate elements from a list while preserving the original order of elements.\n",
    "## a. Question: How would you remove duplicates from the following list?"
   ]
  },
  {
   "cell_type": "markdown",
   "id": "480c6582",
   "metadata": {},
   "source": [
    "We can use np.unique function from numpy library."
   ]
  },
  {
   "cell_type": "code",
   "execution_count": 32,
   "id": "7f812940",
   "metadata": {},
   "outputs": [
    {
     "data": {
      "text/plain": [
       "array([ 1,  3,  4,  6, 12, 31])"
      ]
     },
     "execution_count": 32,
     "metadata": {},
     "output_type": "execute_result"
    }
   ],
   "source": [
    "#import numpy library\n",
    "import numpy as np\n",
    "\n",
    "#original list of numbers\n",
    "num = [1,1,3,4,6,12,4,6,31]\n",
    "\n",
    "#remove duplicate elements while keeping the original order\n",
    "np.unique(num) #output\n"
   ]
  },
  {
   "cell_type": "markdown",
   "id": "8178285f",
   "metadata": {},
   "source": [
    "# 5. Scenario: You have a NumPy array and need to compute the sum of all its elements.\n",
    "## a. Question: How would you find the sum of elements in the following NumPy array?"
   ]
  },
  {
   "cell_type": "markdown",
   "id": "587ffc6e",
   "metadata": {},
   "source": [
    "We can find the sum using the sum() function."
   ]
  },
  {
   "cell_type": "code",
   "execution_count": 38,
   "id": "9f8194fe",
   "metadata": {},
   "outputs": [
    {
     "data": {
      "text/plain": [
       "16"
      ]
     },
     "execution_count": 38,
     "metadata": {},
     "output_type": "execute_result"
    }
   ],
   "source": [
    "#Given numpy array\n",
    "array1 = np.array([1,3,4,2,6])\n",
    "\n",
    "#Calculating the sum of elements in the given array\n",
    "sum(array1)"
   ]
  },
  {
   "cell_type": "markdown",
   "id": "f650bfe1",
   "metadata": {},
   "source": [
    "# 6. Scenario: You have a 2D NumPy array and need to get the maximum value from each column.\n",
    "## a. Question: How would you find the maximum values for each column in the following array?"
   ]
  },
  {
   "cell_type": "markdown",
   "id": "bcb27c3c",
   "metadata": {},
   "source": [
    "We can use np.max() function."
   ]
  },
  {
   "cell_type": "code",
   "execution_count": 47,
   "id": "a40bcbde",
   "metadata": {},
   "outputs": [
    {
     "name": "stdout",
     "output_type": "stream",
     "text": [
      "[[ 1  6  7]\n",
      " [ 5  3  4]\n",
      " [ 0 12  2]]\n",
      "[ 5 12  7]\n"
     ]
    }
   ],
   "source": [
    "#Create 2D array\n",
    "array2 = np.array([[1,6,7], [5,3,4], [0,12,2]])\n",
    "print(array2)\n",
    "\n",
    "#Generate the maximum values from each column\n",
    "max_values = np.max(array2, axis = 0) #Axis = 0 means vertical i.e. column\n",
    "print(max_values)"
   ]
  },
  {
   "cell_type": "markdown",
   "id": "f916bd46",
   "metadata": {},
   "source": [
    "# 7. Scenario: You have a DataFrame and need to sort it by a specific column.\n",
    "## a. Question: How would you sort the DataFrame by the \"Age\" column?"
   ]
  },
  {
   "cell_type": "markdown",
   "id": "3312b12b",
   "metadata": {},
   "source": [
    "We can import pandas library and use sort_values(by = \"Age\") function."
   ]
  },
  {
   "cell_type": "markdown",
   "id": "bd27594c",
   "metadata": {},
   "source": [
    "# 8. Scenario: You need to calculate the total sum of a column in a DataFrame.\n",
    "## a. Question: How would you find the sum of the \"Sales\" column?"
   ]
  },
  {
   "cell_type": "markdown",
   "id": "c024064b",
   "metadata": {},
   "source": [
    "We can use DataFrame[\"Sales\"].sum()."
   ]
  },
  {
   "cell_type": "markdown",
   "id": "0e3d499d",
   "metadata": {},
   "source": [
    "# 9. Scenario: You need to check if a variable is of type int.\n",
    "## a. Question: How would you verify if a variable x is an integer?"
   ]
  },
  {
   "cell_type": "markdown",
   "id": "27f445c2",
   "metadata": {},
   "source": [
    "We can use type(x)."
   ]
  },
  {
   "cell_type": "code",
   "execution_count": 49,
   "id": "cd8f48e8",
   "metadata": {},
   "outputs": [
    {
     "data": {
      "text/plain": [
       "int"
      ]
     },
     "execution_count": 49,
     "metadata": {},
     "output_type": "execute_result"
    }
   ],
   "source": [
    "x = 10\n",
    "type(x)"
   ]
  },
  {
   "cell_type": "markdown",
   "id": "31a453cc",
   "metadata": {},
   "source": [
    "# 10.Scenario: You have a list of mixed types and need to create separate lists for integers, floats, and strings.\n",
    "## a. Question: How would you categorize the following mixed list into different types?"
   ]
  },
  {
   "cell_type": "code",
   "execution_count": 2,
   "id": "36996348",
   "metadata": {},
   "outputs": [
    {
     "name": "stdout",
     "output_type": "stream",
     "text": [
      "Integers: [1, 3]\n",
      "Floats: [2.5, 4.8]\n",
      "Strings: ['apple', 'orange']\n"
     ]
    }
   ],
   "source": [
    "mixed_list = [1,2.5,\"apple\",3,\"orange\",4.8]\n",
    "\n",
    "integers = []\n",
    "floats = []\n",
    "strings = []\n",
    "\n",
    "for item in mixed_list:\n",
    "    if isinstance(item, int):\n",
    "        integers.append(item)\n",
    "    elif isinstance(item, float):\n",
    "        floats.append(item)\n",
    "    elif isinstance(item, str):\n",
    "        strings.append(item)\n",
    "\n",
    "print(\"Integers:\", integers)\n",
    "print(\"Floats:\", floats)\n",
    "print(\"Strings:\", strings)\n",
    "\n",
    "#Used online source"
   ]
  },
  {
   "cell_type": "markdown",
   "id": "528dca0f",
   "metadata": {},
   "source": [
    "# 11.Scenario: You are given a string of comma-separated numbers. You need to convert this string into a list of integers.\n",
    "## a. Question: How would you achieve this conversion?"
   ]
  },
  {
   "cell_type": "code",
   "execution_count": 9,
   "id": "ad4b4da4",
   "metadata": {},
   "outputs": [
    {
     "data": {
      "text/plain": [
       "['1', ' 2', ' 3', ' 4', ' 5', ' 6']"
      ]
     },
     "execution_count": 9,
     "metadata": {},
     "output_type": "execute_result"
    }
   ],
   "source": [
    "num_string = \"1, 2, 3, 4, 5, 6\"\n",
    "type(num_string)\n",
    "\n",
    "#Split the string by commas\n",
    "str_list = num_string.split(',')\n",
    "str_list"
   ]
  },
  {
   "cell_type": "code",
   "execution_count": 10,
   "id": "67f5951f",
   "metadata": {},
   "outputs": [
    {
     "name": "stdout",
     "output_type": "stream",
     "text": [
      "[1, 2, 3, 4, 5, 6]\n"
     ]
    }
   ],
   "source": [
    "int_list = []\n",
    "\n",
    "for num in str_list:\n",
    "    int_value = int(num.strip()) #remove white space and convert into integer\n",
    "    int_list.append(int_value)\n",
    "print(int_list)"
   ]
  },
  {
   "cell_type": "markdown",
   "id": "03353e34",
   "metadata": {},
   "source": [
    "# 12.Scenario: You need to reverse the words in a sentence while keeping the order of the words intact.\n",
    "## a. Question: How would you reverse each word in the following sentence?"
   ]
  },
  {
   "cell_type": "code",
   "execution_count": 76,
   "id": "fbd93d8a",
   "metadata": {},
   "outputs": [
    {
     "data": {
      "text/plain": [
       "['student', 'a', 'am', 'I']"
      ]
     },
     "execution_count": 76,
     "metadata": {},
     "output_type": "execute_result"
    }
   ],
   "source": [
    "sentence = \"I am a student\"\n",
    "\n",
    "words = sentence.split()\n",
    "\n",
    "type(words)\n",
    "\n",
    "reverse_words = reversed(words)\n",
    "list(reverse_words)"
   ]
  },
  {
   "cell_type": "markdown",
   "id": "5d7239b2",
   "metadata": {},
   "source": [
    "# 13.Scenario: You need to combine two lists into a dictionary where the elements of the first list are keys and the elements of the second list are values.\n",
    "## a. Question: How would you combine the following lists into a dictionary?"
   ]
  },
  {
   "cell_type": "code",
   "execution_count": 13,
   "id": "f0ea57d8",
   "metadata": {},
   "outputs": [],
   "source": [
    "keys = [\"Field\", \"Salary\", \"State\"]\n",
    "values = [\"Computer Science\", 100000, \"Virginia\"]"
   ]
  },
  {
   "cell_type": "code",
   "execution_count": 15,
   "id": "5dfb0219",
   "metadata": {},
   "outputs": [
    {
     "name": "stdout",
     "output_type": "stream",
     "text": [
      "{'Field': 'Computer Science', 'Salary': 100000, 'State': 'Virginia'}\n"
     ]
    }
   ],
   "source": [
    "#Using zip() to pair elements from both list\n",
    "paired = zip(keys, values)\n",
    "\n",
    "#Converting the paired elements into a dictionary\n",
    "result_dict = dict(paired)\n",
    "\n",
    "# Step 3: Print the resulting dictionary\n",
    "print(result_dict)"
   ]
  },
  {
   "cell_type": "markdown",
   "id": "6734f813",
   "metadata": {},
   "source": [
    "# 14.Scenario: You are given a list of tuples where each tuple contains a name and an age. You need to sort this list by age.\n",
    "## a. Question: How would you sort the following list of tuples by age?"
   ]
  },
  {
   "cell_type": "code",
   "execution_count": 18,
   "id": "8805abe3",
   "metadata": {},
   "outputs": [],
   "source": [
    "person = [(\"Ram\", 32), (\"Shyam\", 21), (\"Sita\", 30)]"
   ]
  },
  {
   "cell_type": "code",
   "execution_count": 20,
   "id": "af04f6e2",
   "metadata": {},
   "outputs": [
    {
     "name": "stdout",
     "output_type": "stream",
     "text": [
      "[('Shyam', 21), ('Sita', 30), ('Ram', 32)]\n"
     ]
    }
   ],
   "source": [
    "#Using sorted() with a key to sort by the second element whch is 'age'\n",
    "sorted_person = sorted(person, key = lambda x: x[1])\n",
    "\n",
    "#Printing the sorted list\n",
    "print(sorted_person)"
   ]
  },
  {
   "cell_type": "markdown",
   "id": "12cef8d5",
   "metadata": {},
   "source": [
    "## Using online resources\n",
    "### sorted(people, key=lambda x: x[1]): The sorted() function sorts the list. The key=lambda x: x[1] part tells Python to sort by the second element of each tuple (x[1]), which is the age.\n",
    "### lambda x: x[1]: This is an anonymous function (lambda function) that takes each tuple x and returns its second element (x[1]), which is used for sorting."
   ]
  },
  {
   "cell_type": "markdown",
   "id": "4dad377c",
   "metadata": {},
   "source": [
    "# 15.Scenario: You have a 2D NumPy array and need to calculate the mean value of each row.\n",
    "## a. Question: How would you compute the mean value for each row in the following array?"
   ]
  },
  {
   "cell_type": "code",
   "execution_count": 79,
   "id": "9e3a170f",
   "metadata": {},
   "outputs": [
    {
     "name": "stdout",
     "output_type": "stream",
     "text": [
      "[[1 2 3]\n",
      " [4 5 6]\n",
      " [7 8 9]]\n",
      "[2. 5. 8.]\n"
     ]
    }
   ],
   "source": [
    "#Create 2D array\n",
    "array3 = np.array([[1,2,3], [4,5,6], [7,8,9]])\n",
    "print(array3)\n",
    "\n",
    "#calculate mean of each row\n",
    "row_mean = np.mean(array3, axis = 1) #axis 1 is horizontal\n",
    "print(row_mean)"
   ]
  },
  {
   "cell_type": "markdown",
   "id": "8ba330b2",
   "metadata": {},
   "source": [
    "# 16.Scenario: You need to create a NumPy array of size 10 filled with zeros, and then set the fifth element to 5.\n",
    "## a. Question: How would you create and modify the array as described?"
   ]
  },
  {
   "cell_type": "code",
   "execution_count": 83,
   "id": "b00a470b",
   "metadata": {},
   "outputs": [
    {
     "name": "stdout",
     "output_type": "stream",
     "text": [
      "[0. 0. 0. 0. 5. 0. 0. 0. 0. 0.]\n"
     ]
    }
   ],
   "source": [
    "#create numpy array of size 10 filled with zeros\n",
    "array4 = np.zeros(10)\n",
    "\n",
    "#set the fifth element to 5\n",
    "array4[4] = 5 #array[4] is the 5th element\n",
    "\n",
    "print(array4)\n"
   ]
  },
  {
   "cell_type": "markdown",
   "id": "b497e735",
   "metadata": {},
   "source": [
    "# 17.Scenario: You have a DataFrame and need to find the median of a numeric column.\n",
    "## a. Question: How would you find the median of the \"Scores\" column in the following DataFrame?"
   ]
  },
  {
   "cell_type": "markdown",
   "id": "e3ebc166",
   "metadata": {},
   "source": [
    "We can use the code median_score = DataFrame[\"Scores\"].median() to find the median of the numeric column."
   ]
  },
  {
   "cell_type": "markdown",
   "id": "e9295532",
   "metadata": {},
   "source": [
    "# 18.Scenario: You need to filter rows where the value in the \"Sales\" column is above 100 and then sort these rows by \"Date\" in descending order.\n",
    "## a. Question: How would you filter and sort the DataFrame based on the given criteria?"
   ]
  },
  {
   "cell_type": "markdown",
   "id": "10f2b992",
   "metadata": {},
   "source": [
    "To filter rows where \"Sales\" is above 100, we can use the following code:\n",
    "#**************filtered_df = DataFrame[DataFrame[\"Sales\"] > 100]*************#\n",
    "\n",
    "To sort the filtered rows by \"Date\" in descending order, we can use the following code:\n",
    "#**************sorted_df = filtered_df.sort_values(by = \"Date\", ascending = False)*************#"
   ]
  },
  {
   "cell_type": "markdown",
   "id": "3ef2e1a2",
   "metadata": {},
   "source": [
    "# 19.Scenario: You have a string containing a number and need to convert it to an integer. Additionally, handle the case where the string might not represent a valid integer.\n",
    "## a. Question: How would you safely convert the string \"42\" to an integer and handle invalid cases?"
   ]
  },
  {
   "cell_type": "code",
   "execution_count": null,
   "id": "97c3339e",
   "metadata": {},
   "outputs": [],
   "source": [
    "#need help"
   ]
  },
  {
   "cell_type": "markdown",
   "id": "e9fb60a2",
   "metadata": {},
   "source": [
    "# 20.Scenario: You have a list containing different data types, and you want to separate out all the strings.\n",
    "## a. Question: How would you extract all string elements from the following list?"
   ]
  },
  {
   "cell_type": "code",
   "execution_count": null,
   "id": "77fa0c91",
   "metadata": {},
   "outputs": [],
   "source": [
    "#need help"
   ]
  }
 ],
 "metadata": {
  "kernelspec": {
   "display_name": "Python 3 (ipykernel)",
   "language": "python",
   "name": "python3"
  },
  "language_info": {
   "codemirror_mode": {
    "name": "ipython",
    "version": 3
   },
   "file_extension": ".py",
   "mimetype": "text/x-python",
   "name": "python",
   "nbconvert_exporter": "python",
   "pygments_lexer": "ipython3",
   "version": "3.11.3"
  }
 },
 "nbformat": 4,
 "nbformat_minor": 5
}
